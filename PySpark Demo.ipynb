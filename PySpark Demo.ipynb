{
 "cells": [
  {
   "cell_type": "code",
   "execution_count": 115,
   "id": "09bbfdcd",
   "metadata": {},
   "outputs": [
    {
     "data": {
      "text/html": [
       "<div>\n",
       "<style scoped>\n",
       "    .dataframe tbody tr th:only-of-type {\n",
       "        vertical-align: middle;\n",
       "    }\n",
       "\n",
       "    .dataframe tbody tr th {\n",
       "        vertical-align: top;\n",
       "    }\n",
       "\n",
       "    .dataframe thead th {\n",
       "        text-align: right;\n",
       "    }\n",
       "</style>\n",
       "<table border=\"1\" class=\"dataframe\">\n",
       "  <thead>\n",
       "    <tr style=\"text-align: right;\">\n",
       "      <th></th>\n",
       "      <th>Name</th>\n",
       "      <th>Age</th>\n",
       "      <th>Experience</th>\n",
       "      <th>Salary</th>\n",
       "    </tr>\n",
       "  </thead>\n",
       "  <tbody>\n",
       "    <tr>\n",
       "      <th>0</th>\n",
       "      <td>Rahul</td>\n",
       "      <td>25.0</td>\n",
       "      <td>5.0</td>\n",
       "      <td>10000.0</td>\n",
       "    </tr>\n",
       "    <tr>\n",
       "      <th>1</th>\n",
       "      <td>Ozzy</td>\n",
       "      <td>30.0</td>\n",
       "      <td>10.0</td>\n",
       "      <td>20000.0</td>\n",
       "    </tr>\n",
       "    <tr>\n",
       "      <th>2</th>\n",
       "      <td>Noel</td>\n",
       "      <td>40.0</td>\n",
       "      <td>20.0</td>\n",
       "      <td>30000.0</td>\n",
       "    </tr>\n",
       "    <tr>\n",
       "      <th>3</th>\n",
       "      <td>Tejas</td>\n",
       "      <td>NaN</td>\n",
       "      <td>2.0</td>\n",
       "      <td>5000.0</td>\n",
       "    </tr>\n",
       "    <tr>\n",
       "      <th>4</th>\n",
       "      <td>Rajit</td>\n",
       "      <td>28.0</td>\n",
       "      <td>NaN</td>\n",
       "      <td>8000.0</td>\n",
       "    </tr>\n",
       "    <tr>\n",
       "      <th>5</th>\n",
       "      <td>NaN</td>\n",
       "      <td>26.0</td>\n",
       "      <td>5.0</td>\n",
       "      <td>6000.0</td>\n",
       "    </tr>\n",
       "    <tr>\n",
       "      <th>6</th>\n",
       "      <td>Kevi</td>\n",
       "      <td>32.0</td>\n",
       "      <td>7.0</td>\n",
       "      <td>NaN</td>\n",
       "    </tr>\n",
       "  </tbody>\n",
       "</table>\n",
       "</div>"
      ],
      "text/plain": [
       "     Name   Age  Experience   Salary\n",
       "0  Rahul   25.0         5.0  10000.0\n",
       "1    Ozzy  30.0        10.0  20000.0\n",
       "2   Noel   40.0        20.0  30000.0\n",
       "3  Tejas    NaN         2.0   5000.0\n",
       "4   Rajit  28.0         NaN   8000.0\n",
       "5     NaN  26.0         5.0   6000.0\n",
       "6   Kevi   32.0         7.0      NaN"
      ]
     },
     "execution_count": 115,
     "metadata": {},
     "output_type": "execute_result"
    }
   ],
   "source": [
    "import pandas as pd\n",
    "import numpy as np\n",
    "\n",
    "\n",
    "data = pd.read_csv(\"Test1.csv\")\n",
    "data"
   ]
  },
  {
   "cell_type": "code",
   "execution_count": 116,
   "id": "cec39e2b",
   "metadata": {},
   "outputs": [],
   "source": [
    "import pyspark"
   ]
  },
  {
   "cell_type": "code",
   "execution_count": 117,
   "id": "2ed62026",
   "metadata": {},
   "outputs": [],
   "source": [
    "#start spark session\n",
    "from pyspark.sql import SparkSession\n",
    "\n",
    "#spark1 = SparkSession.builder.appName('Practise1').getOrCreate()\n",
    "\n",
    "sparksesh = SparkSession.builder.appName(\"Sesh1\").getOrCreate()"
   ]
  },
  {
   "cell_type": "code",
   "execution_count": 118,
   "id": "6f7ac438",
   "metadata": {},
   "outputs": [
    {
     "data": {
      "text/html": [
       "\n",
       "            <div>\n",
       "                <p><b>SparkSession - in-memory</b></p>\n",
       "                \n",
       "        <div>\n",
       "            <p><b>SparkContext</b></p>\n",
       "\n",
       "            <p><a href=\"http://rahuls-air:4040\">Spark UI</a></p>\n",
       "\n",
       "            <dl>\n",
       "              <dt>Version</dt>\n",
       "                <dd><code>v3.4.1</code></dd>\n",
       "              <dt>Master</dt>\n",
       "                <dd><code>local[*]</code></dd>\n",
       "              <dt>AppName</dt>\n",
       "                <dd><code>Sesh1</code></dd>\n",
       "            </dl>\n",
       "        </div>\n",
       "        \n",
       "            </div>\n",
       "        "
      ],
      "text/plain": [
       "<pyspark.sql.session.SparkSession at 0x11c305000>"
      ]
     },
     "execution_count": 118,
     "metadata": {},
     "output_type": "execute_result"
    }
   ],
   "source": [
    "sparksesh"
   ]
  },
  {
   "cell_type": "code",
   "execution_count": 119,
   "id": "939b2bce",
   "metadata": {},
   "outputs": [],
   "source": [
    "#read the csv\n",
    "df_ps = sparksesh.read.option('header','true').csv('Test1.csv',inferSchema = True)"
   ]
  },
  {
   "cell_type": "code",
   "execution_count": 120,
   "id": "ec17ee4a",
   "metadata": {},
   "outputs": [
    {
     "name": "stdout",
     "output_type": "stream",
     "text": [
      "+------+----+----------+------+\n",
      "|  Name| Age|Experience|Salary|\n",
      "+------+----+----------+------+\n",
      "|Rahul |  25|         5| 10000|\n",
      "|  Ozzy|  30|        10| 20000|\n",
      "| Noel |  40|        20| 30000|\n",
      "|Tejas |null|         2|  5000|\n",
      "| Rajit|  28|      null|  8000|\n",
      "|  null|  26|         5|  6000|\n",
      "| Kevi |  32|         7|  null|\n",
      "+------+----+----------+------+\n",
      "\n"
     ]
    }
   ],
   "source": [
    "df_ps.show()"
   ]
  },
  {
   "cell_type": "code",
   "execution_count": 121,
   "id": "161bec11",
   "metadata": {},
   "outputs": [
    {
     "name": "stdout",
     "output_type": "stream",
     "text": [
      "root\n",
      " |-- Name: string (nullable = true)\n",
      " |-- Age: integer (nullable = true)\n",
      " |-- Experience: integer (nullable = true)\n",
      " |-- Salary: integer (nullable = true)\n",
      "\n"
     ]
    }
   ],
   "source": [
    "#Check schema\n",
    "df_ps.printSchema()"
   ]
  },
  {
   "cell_type": "code",
   "execution_count": 122,
   "id": "1dc01695",
   "metadata": {},
   "outputs": [
    {
     "data": {
      "text/plain": [
       "pyspark.sql.dataframe.DataFrame"
      ]
     },
     "execution_count": 122,
     "metadata": {},
     "output_type": "execute_result"
    }
   ],
   "source": [
    "type(df_ps) #data frames are basically data structures"
   ]
  },
  {
   "cell_type": "code",
   "execution_count": 123,
   "id": "51824d28",
   "metadata": {},
   "outputs": [
    {
     "data": {
      "text/plain": [
       "['Name', 'Age', 'Experience', 'Salary']"
      ]
     },
     "execution_count": 123,
     "metadata": {},
     "output_type": "execute_result"
    }
   ],
   "source": [
    "df_ps.columns #columns"
   ]
  },
  {
   "cell_type": "code",
   "execution_count": 124,
   "id": "1f219be1",
   "metadata": {},
   "outputs": [
    {
     "data": {
      "text/plain": [
       "[Row(Name='Rahul ', Age=25, Experience=5, Salary=10000),\n",
       " Row(Name='Ozzy', Age=30, Experience=10, Salary=20000),\n",
       " Row(Name='Noel ', Age=40, Experience=20, Salary=30000)]"
      ]
     },
     "execution_count": 124,
     "metadata": {},
     "output_type": "execute_result"
    }
   ],
   "source": [
    "df_ps.head(3)  #Displays in list format unlike pandas"
   ]
  },
  {
   "cell_type": "code",
   "execution_count": 125,
   "id": "d665d75e",
   "metadata": {},
   "outputs": [
    {
     "name": "stdout",
     "output_type": "stream",
     "text": [
      "+------+----------+\n",
      "|  Name|Experience|\n",
      "+------+----------+\n",
      "|Rahul |         5|\n",
      "|  Ozzy|        10|\n",
      "| Noel |        20|\n",
      "|Tejas |         2|\n",
      "| Rajit|      null|\n",
      "|  null|         5|\n",
      "| Kevi |         7|\n",
      "+------+----------+\n",
      "\n"
     ]
    }
   ],
   "source": [
    "df_ps.select(['Name','Experience']).show() #We need the select function to access columns and indexing"
   ]
  },
  {
   "cell_type": "code",
   "execution_count": 126,
   "id": "3ac73a4f",
   "metadata": {},
   "outputs": [
    {
     "name": "stdout",
     "output_type": "stream",
     "text": [
      "+-------+------+------------------+-----------------+------------------+\n",
      "|summary|  Name|               Age|       Experience|            Salary|\n",
      "+-------+------+------------------+-----------------+------------------+\n",
      "|  count|     6|                 6|                6|                 6|\n",
      "|   mean|  null|30.166666666666668|8.166666666666666|13166.666666666666|\n",
      "| stddev|  null| 5.455883674224247|6.369196704975177|  9847.16541278081|\n",
      "|    min| Kevi |                25|                2|              5000|\n",
      "|    max|Tejas |                40|               20|             30000|\n",
      "+-------+------+------------------+-----------------+------------------+\n",
      "\n"
     ]
    }
   ],
   "source": [
    "df_ps.describe().show()"
   ]
  },
  {
   "cell_type": "code",
   "execution_count": 127,
   "id": "c58752aa",
   "metadata": {},
   "outputs": [],
   "source": [
    "#Adding columns\n",
    "df_ps = df_ps.withColumn('Experience after 2 yrs',df_ps['Experience']+2)"
   ]
  },
  {
   "cell_type": "code",
   "execution_count": 128,
   "id": "231964ad",
   "metadata": {},
   "outputs": [
    {
     "name": "stdout",
     "output_type": "stream",
     "text": [
      "+------+----+----------+------+----------------------+\n",
      "|  Name| Age|Experience|Salary|Experience after 2 yrs|\n",
      "+------+----+----------+------+----------------------+\n",
      "|Rahul |  25|         5| 10000|                     7|\n",
      "|  Ozzy|  30|        10| 20000|                    12|\n",
      "| Noel |  40|        20| 30000|                    22|\n",
      "|Tejas |null|         2|  5000|                     4|\n",
      "| Rajit|  28|      null|  8000|                  null|\n",
      "|  null|  26|         5|  6000|                     7|\n",
      "| Kevi |  32|         7|  null|                     9|\n",
      "+------+----+----------+------+----------------------+\n",
      "\n"
     ]
    }
   ],
   "source": [
    "df_ps.show()"
   ]
  },
  {
   "cell_type": "code",
   "execution_count": 129,
   "id": "f657ca8b",
   "metadata": {},
   "outputs": [],
   "source": [
    "#Drop columns\n",
    "df_ps = df_ps.drop('Experience after 2 yrs')"
   ]
  },
  {
   "cell_type": "code",
   "execution_count": 130,
   "id": "50ba7e34",
   "metadata": {},
   "outputs": [
    {
     "name": "stdout",
     "output_type": "stream",
     "text": [
      "+------+----+----------+------+\n",
      "|  Name| Age|Experience|Salary|\n",
      "+------+----+----------+------+\n",
      "|Rahul |  25|         5| 10000|\n",
      "|  Ozzy|  30|        10| 20000|\n",
      "| Noel |  40|        20| 30000|\n",
      "|Tejas |null|         2|  5000|\n",
      "| Rajit|  28|      null|  8000|\n",
      "|  null|  26|         5|  6000|\n",
      "| Kevi |  32|         7|  null|\n",
      "+------+----+----------+------+\n",
      "\n"
     ]
    }
   ],
   "source": [
    "df_ps.show()"
   ]
  },
  {
   "cell_type": "code",
   "execution_count": 131,
   "id": "7df1f00c",
   "metadata": {},
   "outputs": [],
   "source": [
    "#Rename a column\n",
    "\n",
    "df_ps = df_ps.withColumnRenamed('Name','New name')"
   ]
  },
  {
   "cell_type": "code",
   "execution_count": 132,
   "id": "a40dd9f1",
   "metadata": {},
   "outputs": [
    {
     "name": "stdout",
     "output_type": "stream",
     "text": [
      "+--------+----+----------+------+\n",
      "|New name| Age|Experience|Salary|\n",
      "+--------+----+----------+------+\n",
      "|  Rahul |  25|         5| 10000|\n",
      "|    Ozzy|  30|        10| 20000|\n",
      "|   Noel |  40|        20| 30000|\n",
      "|  Tejas |null|         2|  5000|\n",
      "|   Rajit|  28|      null|  8000|\n",
      "|    null|  26|         5|  6000|\n",
      "|   Kevi |  32|         7|  null|\n",
      "+--------+----+----------+------+\n",
      "\n"
     ]
    }
   ],
   "source": [
    "df_ps.show()"
   ]
  },
  {
   "cell_type": "code",
   "execution_count": 133,
   "id": "83769d3a",
   "metadata": {},
   "outputs": [
    {
     "name": "stdout",
     "output_type": "stream",
     "text": [
      "+--------+----------+------+\n",
      "|New name|Experience|Salary|\n",
      "+--------+----------+------+\n",
      "|  Rahul |         5| 10000|\n",
      "|    Ozzy|        10| 20000|\n",
      "|   Noel |        20| 30000|\n",
      "|  Tejas |         2|  5000|\n",
      "|   Rajit|      null|  8000|\n",
      "|    null|         5|  6000|\n",
      "|   Kevi |         7|  null|\n",
      "+--------+----------+------+\n",
      "\n"
     ]
    }
   ],
   "source": [
    "#Dropping a column\n",
    "df_ps.drop('Age').show()"
   ]
  },
  {
   "cell_type": "code",
   "execution_count": 134,
   "id": "343c4203",
   "metadata": {},
   "outputs": [
    {
     "name": "stdout",
     "output_type": "stream",
     "text": [
      "+--------+----+----------+------+\n",
      "|New name| Age|Experience|Salary|\n",
      "+--------+----+----------+------+\n",
      "|  Rahul |  25|         5| 10000|\n",
      "|    Ozzy|  30|        10| 20000|\n",
      "|   Noel |  40|        20| 30000|\n",
      "|  Tejas |null|         2|  5000|\n",
      "|   Rajit|  28|      null|  8000|\n",
      "|    null|  26|         5|  6000|\n",
      "|   Kevi |  32|         7|  null|\n",
      "+--------+----+----------+------+\n",
      "\n"
     ]
    }
   ],
   "source": [
    "df_ps.show()"
   ]
  },
  {
   "cell_type": "code",
   "execution_count": 135,
   "id": "3ac4d499",
   "metadata": {},
   "outputs": [
    {
     "name": "stdout",
     "output_type": "stream",
     "text": [
      "+--------+----+----------+------+\n",
      "|New name| Age|Experience|Salary|\n",
      "+--------+----+----------+------+\n",
      "|  Rahul |  25|         5| 10000|\n",
      "|    Ozzy|  30|        10| 20000|\n",
      "|   Noel |  40|        20| 30000|\n",
      "|  Tejas |null|         2|  5000|\n",
      "|   Rajit|  28|      null|  8000|\n",
      "|    null|  26|         5|  6000|\n",
      "+--------+----+----------+------+\n",
      "\n"
     ]
    }
   ],
   "source": [
    "#Dropping null values\n",
    "df_ps.na.drop(how='all',subset=['salary']).show() #use the thresh parameter to specify min. required non-null values"
   ]
  },
  {
   "cell_type": "code",
   "execution_count": 144,
   "id": "48487033",
   "metadata": {},
   "outputs": [
    {
     "name": "stdout",
     "output_type": "stream",
     "text": [
      "+--------+---+----------+------+\n",
      "|New name|Age|Experience|Salary|\n",
      "+--------+---+----------+------+\n",
      "|  Rahul | 25|         5| 10000|\n",
      "|    Ozzy| 30|        10| 20000|\n",
      "|   Noel | 40|        20| 30000|\n",
      "|  Tejas | -1|         2|  5000|\n",
      "|   Rajit| 28|        -1|  8000|\n",
      "|      hi| 26|         5|  6000|\n",
      "|   Kevi | 32|         7|    -1|\n",
      "+--------+---+----------+------+\n",
      "\n"
     ]
    }
   ],
   "source": [
    "#Filling missing values\n",
    "\n",
    "df_ps.fillna({'New Name': 'hi'}).fillna({'Age': -1}).fillna({'Experience': -1}).fillna({'Salary': -1}).show()\n",
    "\n"
   ]
  },
  {
   "cell_type": "code",
   "execution_count": 145,
   "id": "afc851e3",
   "metadata": {},
   "outputs": [],
   "source": [
    "from pyspark.ml.feature import Imputer\n",
    "\n",
    "imputer = Imputer(inputCols=['Age','Experience','Salary'], \n",
    "                  outputCols=[\"{}_imputed\".format(col) for col in ['Age','Experience','Salary']]\n",
    "                 ).setStrategy(\"mean\")"
   ]
  },
  {
   "cell_type": "code",
   "execution_count": 146,
   "id": "c25bb7c4",
   "metadata": {},
   "outputs": [
    {
     "name": "stdout",
     "output_type": "stream",
     "text": [
      "+--------+----+----------+------+-----------+------------------+--------------+\n",
      "|New name| Age|Experience|Salary|Age_imputed|Experience_imputed|Salary_imputed|\n",
      "+--------+----+----------+------+-----------+------------------+--------------+\n",
      "|  Rahul |  25|         5| 10000|         25|                 5|         10000|\n",
      "|    Ozzy|  30|        10| 20000|         30|                10|         20000|\n",
      "|   Noel |  40|        20| 30000|         40|                20|         30000|\n",
      "|  Tejas |null|         2|  5000|         30|                 2|          5000|\n",
      "|   Rajit|  28|      null|  8000|         28|                 8|          8000|\n",
      "|    null|  26|         5|  6000|         26|                 5|          6000|\n",
      "|   Kevi |  32|         7|  null|         32|                 7|         13166|\n",
      "+--------+----+----------+------+-----------+------------------+--------------+\n",
      "\n"
     ]
    }
   ],
   "source": [
    "imputer.fit(df_ps).transform(df_ps).show()"
   ]
  }
 ],
 "metadata": {
  "kernelspec": {
   "display_name": "myenv",
   "language": "python",
   "name": "myenv"
  },
  "language_info": {
   "codemirror_mode": {
    "name": "ipython",
    "version": 3
   },
   "file_extension": ".py",
   "mimetype": "text/x-python",
   "name": "python",
   "nbconvert_exporter": "python",
   "pygments_lexer": "ipython3",
   "version": "3.10.10"
  }
 },
 "nbformat": 4,
 "nbformat_minor": 5
}
